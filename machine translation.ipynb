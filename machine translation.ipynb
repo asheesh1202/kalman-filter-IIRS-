{
 "cells": [
  {
   "cell_type": "code",
   "execution_count": 1,
   "metadata": {},
   "outputs": [
    {
     "ename": "ModuleNotFoundError",
     "evalue": "No module named 'keras'",
     "output_type": "error",
     "traceback": [
      "\u001b[0;31m---------------------------------------------------------------------------\u001b[0m",
      "\u001b[0;31mModuleNotFoundError\u001b[0m                       Traceback (most recent call last)",
      "\u001b[0;32m<ipython-input-1-13545f8a28e8>\u001b[0m in \u001b[0;36m<module>\u001b[0;34m()\u001b[0m\n\u001b[0;32m----> 1\u001b[0;31m \u001b[0;32mfrom\u001b[0m \u001b[0mkeras\u001b[0m\u001b[0;34m.\u001b[0m\u001b[0mpreprocessing\u001b[0m\u001b[0;34m.\u001b[0m\u001b[0mtext\u001b[0m \u001b[0;32mimport\u001b[0m \u001b[0mTokenizer\u001b[0m\u001b[0;34m\u001b[0m\u001b[0m\n\u001b[0m\u001b[1;32m      2\u001b[0m \u001b[0;32mfrom\u001b[0m \u001b[0mkeras\u001b[0m\u001b[0;34m.\u001b[0m\u001b[0mpreprocessing\u001b[0m\u001b[0;34m.\u001b[0m\u001b[0msequence\u001b[0m \u001b[0;32mimport\u001b[0m \u001b[0mpad_sequences\u001b[0m\u001b[0;34m\u001b[0m\u001b[0m\n\u001b[1;32m      3\u001b[0m \u001b[0;32mimport\u001b[0m \u001b[0mcodecs\u001b[0m\u001b[0;34m\u001b[0m\u001b[0m\n\u001b[1;32m      4\u001b[0m \u001b[0;32mimport\u001b[0m \u001b[0mpdb\u001b[0m\u001b[0;34m\u001b[0m\u001b[0m\n\u001b[1;32m      5\u001b[0m \u001b[0;32mimport\u001b[0m \u001b[0mnumpy\u001b[0m \u001b[0;32mas\u001b[0m \u001b[0mnp\u001b[0m\u001b[0;34m\u001b[0m\u001b[0m\n",
      "\u001b[0;31mModuleNotFoundError\u001b[0m: No module named 'keras'"
     ]
    }
   ],
   "source": [
    "from keras.preprocessing.text import Tokenizer\n",
    "from keras.preprocessing.sequence import pad_sequences\n",
    "import codecs\n",
    "import pdb\n",
    "import numpy as np\n",
    "from utils import preprocess_text, text2seq_generator\n"
   ]
  },
  {
   "cell_type": "code",
   "execution_count": 2,
   "metadata": {},
   "outputs": [
    {
     "ename": "ModuleNotFoundError",
     "evalue": "No module named 'tensorflow'",
     "output_type": "error",
     "traceback": [
      "\u001b[0;31m---------------------------------------------------------------------------\u001b[0m",
      "\u001b[0;31mModuleNotFoundError\u001b[0m                       Traceback (most recent call last)",
      "\u001b[0;32m<ipython-input-2-a649b509054f>\u001b[0m in \u001b[0;36m<module>\u001b[0;34m()\u001b[0m\n\u001b[0;32m----> 1\u001b[0;31m \u001b[0;32mimport\u001b[0m \u001b[0mtensorflow\u001b[0m\u001b[0;34m\u001b[0m\u001b[0m\n\u001b[0m",
      "\u001b[0;31mModuleNotFoundError\u001b[0m: No module named 'tensorflow'"
     ]
    }
   ],
   "source": [
    "import tensorflow"
   ]
  },
  {
   "cell_type": "code",
   "execution_count": 2,
   "metadata": {
    "collapsed": true
   },
   "outputs": [],
   "source": [
    "class preprocess(object):\n",
    "    # Preprocessing for hindi to english\n",
    "    def __init__(self, path_tar, path_src, max_feat, max_len, truncate='post'):\n",
    "        self.path_tar = path_tar\n",
    "        self.path_src = path_src\n",
    "        self.max_feat = max_feat\n",
    "        self.max_len = max_len\n",
    "        self.vocab_tar = []\n",
    "        self.vocab_src = []\n",
    "        self.truncate = truncate\n",
    "\n",
    "    def preprocess(self):\n",
    "        # Preprocessing source and target text sequence files\n",
    "        self.vocab_src, self.vocab_tar, self.sents_src, self.sents_tar = preprocess_text(self.path_src, self.path_tar, self.max_feat)\n",
    "\n",
    "    def gen_seq(self, text_seq, text_seq1):\n",
    "        nonzero_ind = []\n",
    "        for ind, seq in enumerate(zip(text_seq, text_seq1)):\n",
    "            if len(seq[0]) !=0 and len(seq[1]) !=0:\n",
    "                nonzero_ind.append(ind)\n",
    "        #nonzero_ind = [ind for ind, seq in enumerate(zip(text_seq, text_seq1)) if len(seq[0]) != 0 and len(seq[1]) != 0]\n",
    "\n",
    "        text_seq_Y = [text_seq1[i] for i in nonzero_ind]\n",
    "        text_seq_X = [text_seq[i] for i in nonzero_ind]\n",
    "        # Normalize all sequences to maxlen\n",
    "        #X = pad_sequences(text_seq_X, self.max_len)\n",
    "        #Y = pad_sequences(text_seq_Y, self.max_len)\n",
    "        X = np.zeros((len(text_seq_X), self.max_len + 2), np.int32)\n",
    "        Y = np.zeros((len(text_seq_Y), self.max_len + 2, self.max_feat + 3), dtype=np.int32)\n",
    "        #pdb.set_trace()\n",
    "        for ind, seq in enumerate(zip(text_seq_X, text_seq_Y)):\n",
    "            if len(seq[0]) <= (self.max_len):\n",
    "                X[ind, 0] = self.vocab_src[\"<s>\"]\n",
    "                X[ind, 1:len(seq[0])+1] = seq[0]\n",
    "                X[ind, len(seq[0])+1:] = self.vocab_src[\"</s>\"]\n",
    "\n",
    "            elif len(seq[0]) > self.max_len:\n",
    "                if self.truncate == 'post':\n",
    "                    temp = seq[0][:self.max_len]\n",
    "                    X[ind, 0] = self.vocab_src[\"<s>\"]\n",
    "                    X[ind, 1:len(temp)+1] = temp\n",
    "                    X[ind, len(temp)+1:] = self.vocab_src[\"</s>\"]\n",
    "                else:\n",
    "                    temp = self[0][-self.max_len:]\n",
    "                    X[ind, 0] = self.vocab_src[\"<s>\"]\n",
    "                    X[ind, 1:(len(temp) + 1)] = temp\n",
    "                    X[ind, (len(temp) + 1):] = self.vocab_src[\"</s>\"]\n",
    "\n",
    "            #pdb.set_trace()\n",
    "            if len(seq[1]) <= self.max_len:\n",
    "                Y[ind, 0, self.vocab_src[\"<s>\"]] = 1\n",
    "                # 2nd dim ind + 1 because ind1 starts with 0 and 0 is filled\n",
    "                # with <s>\n",
    "                for ind1,j in enumerate(seq[1]):\n",
    "                    Y[ind, (ind1 + 1), j] = 1\n",
    "\n",
    "                for ind1 in xrange(len(seq[1])+1, self.max_len+2):\n",
    "                    Y[ind, ind1, self.vocab_src[\"</s>\"]] = 1\n",
    "\n",
    "            elif len(seq[1]) > self.max_len:\n",
    "                if self.truncate == 'post':\n",
    "                    temp = seq[1][:self.max_len]\n",
    "\n",
    "                else:\n",
    "                    temp = seq[1][-self.max_len:]\n",
    "\n",
    "                Y[ind, 0, self.vocab_src[\"<s>\"]] = 1\n",
    "\n",
    "                for ind1,j in enumerate(temp):\n",
    "                    Y[ind, (ind1 + 1), j] = 1\n",
    "\n",
    "                for ind1 in xrange(len(temp) + 1, self.max_len + 2):\n",
    "                    Y[ind, ind1, self.vocab_src[\"</s>\"]] = 1\n",
    "        #pdb.set_trace()\n",
    "        return X, Y\n",
    "\n",
    "\n",
    "    def gen_batch(self, batch_size=32):\n",
    "        i = 0\n",
    "        text_seq = []\n",
    "        text_seq1 = []\n",
    "        for text1, text2 in text2seq_generator(self.vocab_src, self.vocab_tar, self.sents_src, self.sents_tar):\n",
    "            text_seq.append(text1)\n",
    "            text_seq1.append(text2)\n",
    "            i += 1\n",
    "            if i == batch_size:\n",
    "                X, Y = self.gen_seq(text_seq, text_seq1)\n",
    "                text_seq = []\n",
    "                text_seq1 = []\n",
    "                i = 0\n",
    "                yield X, Y\n",
    "#pdb.set_trace()"
   ]
  },
  {
   "cell_type": "code",
   "execution_count": 10,
   "metadata": {},
   "outputs": [
    {
     "name": "stdout",
     "output_type": "stream",
     "text": [
      "epoch no 0\n"
     ]
    },
    {
     "ename": "TypeError",
     "evalue": "object of type 'map' has no len()",
     "output_type": "error",
     "traceback": [
      "\u001b[0;31m---------------------------------------------------------------------------\u001b[0m",
      "\u001b[0;31mTypeError\u001b[0m                                 Traceback (most recent call last)",
      "\u001b[0;32m<ipython-input-10-9f152880bc3a>\u001b[0m in \u001b[0;36m<module>\u001b[0;34m()\u001b[0m\n\u001b[1;32m      4\u001b[0m     \u001b[0;32mfor\u001b[0m \u001b[0me\u001b[0m \u001b[0;32min\u001b[0m \u001b[0mrange\u001b[0m\u001b[0;34m(\u001b[0m\u001b[0;36m1\u001b[0m\u001b[0;34m)\u001b[0m\u001b[0;34m:\u001b[0m\u001b[0;34m\u001b[0m\u001b[0m\n\u001b[1;32m      5\u001b[0m         \u001b[0mprint\u001b[0m\u001b[0;34m(\u001b[0m\u001b[0;34m\"epoch no %d\"\u001b[0m\u001b[0;34m%\u001b[0m\u001b[0me\u001b[0m\u001b[0;34m)\u001b[0m\u001b[0;34m\u001b[0m\u001b[0m\n\u001b[0;32m----> 6\u001b[0;31m         \u001b[0;32mfor\u001b[0m \u001b[0mX\u001b[0m\u001b[0;34m,\u001b[0m\u001b[0mY\u001b[0m \u001b[0;32min\u001b[0m \u001b[0mpre\u001b[0m\u001b[0;34m.\u001b[0m\u001b[0mgen_batch\u001b[0m\u001b[0;34m(\u001b[0m\u001b[0;34m)\u001b[0m\u001b[0;34m:\u001b[0m\u001b[0;34m\u001b[0m\u001b[0m\n\u001b[0m\u001b[1;32m      7\u001b[0m             \u001b[0mprint\u001b[0m \u001b[0;34m(\u001b[0m\u001b[0mX\u001b[0m\u001b[0;34m)\u001b[0m\u001b[0;34m\u001b[0m\u001b[0m\n",
      "\u001b[0;32m<ipython-input-2-f5503b2dd11c>\u001b[0m in \u001b[0;36mgen_batch\u001b[0;34m(self, batch_size)\u001b[0m\n\u001b[1;32m     85\u001b[0m             \u001b[0mi\u001b[0m \u001b[0;34m+=\u001b[0m \u001b[0;36m1\u001b[0m\u001b[0;34m\u001b[0m\u001b[0m\n\u001b[1;32m     86\u001b[0m             \u001b[0;32mif\u001b[0m \u001b[0mi\u001b[0m \u001b[0;34m==\u001b[0m \u001b[0mbatch_size\u001b[0m\u001b[0;34m:\u001b[0m\u001b[0;34m\u001b[0m\u001b[0m\n\u001b[0;32m---> 87\u001b[0;31m                 \u001b[0mX\u001b[0m\u001b[0;34m,\u001b[0m \u001b[0mY\u001b[0m \u001b[0;34m=\u001b[0m \u001b[0mself\u001b[0m\u001b[0;34m.\u001b[0m\u001b[0mgen_seq\u001b[0m\u001b[0;34m(\u001b[0m\u001b[0mtext_seq\u001b[0m\u001b[0;34m,\u001b[0m \u001b[0mtext_seq1\u001b[0m\u001b[0;34m)\u001b[0m\u001b[0;34m\u001b[0m\u001b[0m\n\u001b[0m\u001b[1;32m     88\u001b[0m                 \u001b[0mtext_seq\u001b[0m \u001b[0;34m=\u001b[0m \u001b[0;34m[\u001b[0m\u001b[0;34m]\u001b[0m\u001b[0;34m\u001b[0m\u001b[0m\n\u001b[1;32m     89\u001b[0m                 \u001b[0mtext_seq1\u001b[0m \u001b[0;34m=\u001b[0m \u001b[0;34m[\u001b[0m\u001b[0;34m]\u001b[0m\u001b[0;34m\u001b[0m\u001b[0m\n",
      "\u001b[0;32m<ipython-input-2-f5503b2dd11c>\u001b[0m in \u001b[0;36mgen_seq\u001b[0;34m(self, text_seq, text_seq1)\u001b[0m\n\u001b[1;32m     17\u001b[0m         \u001b[0mnonzero_ind\u001b[0m \u001b[0;34m=\u001b[0m \u001b[0;34m[\u001b[0m\u001b[0;34m]\u001b[0m\u001b[0;34m\u001b[0m\u001b[0m\n\u001b[1;32m     18\u001b[0m         \u001b[0;32mfor\u001b[0m \u001b[0mind\u001b[0m\u001b[0;34m,\u001b[0m \u001b[0mseq\u001b[0m \u001b[0;32min\u001b[0m \u001b[0menumerate\u001b[0m\u001b[0;34m(\u001b[0m\u001b[0mzip\u001b[0m\u001b[0;34m(\u001b[0m\u001b[0mtext_seq\u001b[0m\u001b[0;34m,\u001b[0m \u001b[0mtext_seq1\u001b[0m\u001b[0;34m)\u001b[0m\u001b[0;34m)\u001b[0m\u001b[0;34m:\u001b[0m\u001b[0;34m\u001b[0m\u001b[0m\n\u001b[0;32m---> 19\u001b[0;31m             \u001b[0;32mif\u001b[0m \u001b[0mlen\u001b[0m\u001b[0;34m(\u001b[0m\u001b[0mseq\u001b[0m\u001b[0;34m[\u001b[0m\u001b[0;36m0\u001b[0m\u001b[0;34m]\u001b[0m\u001b[0;34m)\u001b[0m \u001b[0;34m!=\u001b[0m\u001b[0;36m0\u001b[0m \u001b[0;32mand\u001b[0m \u001b[0mlen\u001b[0m\u001b[0;34m(\u001b[0m\u001b[0mseq\u001b[0m\u001b[0;34m[\u001b[0m\u001b[0;36m1\u001b[0m\u001b[0;34m]\u001b[0m\u001b[0;34m)\u001b[0m \u001b[0;34m!=\u001b[0m\u001b[0;36m0\u001b[0m\u001b[0;34m:\u001b[0m\u001b[0;34m\u001b[0m\u001b[0m\n\u001b[0m\u001b[1;32m     20\u001b[0m                 \u001b[0mnonzero_ind\u001b[0m\u001b[0;34m.\u001b[0m\u001b[0mappend\u001b[0m\u001b[0;34m(\u001b[0m\u001b[0mind\u001b[0m\u001b[0;34m)\u001b[0m\u001b[0;34m\u001b[0m\u001b[0m\n\u001b[1;32m     21\u001b[0m         \u001b[0;31m#nonzero_ind = [ind for ind, seq in enumerate(zip(text_seq, text_seq1)) if len(seq[0]) != 0 and len(seq[1]) != 0]\u001b[0m\u001b[0;34m\u001b[0m\u001b[0;34m\u001b[0m\u001b[0m\n",
      "\u001b[0;31mTypeError\u001b[0m: object of type 'map' has no len()"
     ]
    }
   ],
   "source": [
    "if __name__ == \"__main__\":\n",
    "    pre = preprocess('training.hi-en.hi', 'training.hi-en.en', 5500, 15)\n",
    "    pre.preprocess()\n",
    "    for e in range(1):\n",
    "        print(\"epoch no %d\"%e)\n",
    "        for X,Y in pre.gen_batch():\n",
    "            print (X)"
   ]
  },
  {
   "cell_type": "code",
   "execution_count": null,
   "metadata": {
    "collapsed": true
   },
   "outputs": [],
   "source": []
  }
 ],
 "metadata": {
  "kernelspec": {
   "display_name": "Python 3",
   "language": "python",
   "name": "python3"
  },
  "language_info": {
   "codemirror_mode": {
    "name": "ipython",
    "version": 3
   },
   "file_extension": ".py",
   "mimetype": "text/x-python",
   "name": "python",
   "nbconvert_exporter": "python",
   "pygments_lexer": "ipython3",
   "version": "3.6.3"
  }
 },
 "nbformat": 4,
 "nbformat_minor": 2
}
