{
 "cells": [
  {
   "cell_type": "code",
   "execution_count": 270,
   "metadata": {},
   "outputs": [],
   "source": [
    "#importing pandas module for data manupilation \n",
    "import pandas as pd\n",
    "\n",
    "#importing numpy module\n",
    "import numpy as np\n",
    "\n",
    "#reading imu data\n",
    "imu=pd.read_table('imu_data.txt',sep='\\s+')\n",
    "\n",
    "#reading gps data\n",
    "gps=pd.read_table('gps_data.txt', sep='\\s+')"
   ]
  },
  {
   "cell_type": "code",
   "execution_count": 271,
   "metadata": {},
   "outputs": [
    {
     "data": {
      "text/plain": [
       "39"
      ]
     },
     "execution_count": 271,
     "metadata": {},
     "output_type": "execute_result"
    }
   ],
   "source": [
    "imu1={}\n",
    "    #downsampling the imu data \n",
    "for i in range(0,len(imu['Time']),100): \n",
    "    imu1[i/100] = (imu.iloc[i])\n",
    "    \n",
    "    \n",
    "imu1=pd.DataFrame(imu1)\n",
    "    \n",
    "imu=imu1.T\n",
    "n=len(imu['Time'])-1\n",
    "n"
   ]
  },
  {
   "cell_type": "code",
   "execution_count": 272,
   "metadata": {},
   "outputs": [
    {
     "name": "stdout",
     "output_type": "stream",
     "text": [
      "Index([u'Time', u'IMU_X_ACC', u'IMU_Y_ACC', u'IMU_Z_ACC', u'IMU_YAW_VEL',\n",
      "       u'IMU_PITCH_VEL', u'IMU_ROLL_VEL', u'IMU_X_VEL', u'IMU_Y_VEL',\n",
      "       u'IMU_Z_VEL', u'IMU_YAW', u'IMU_PITCH', u'IMU_ROLL', u'IMU_X', u'IMU_Y',\n",
      "       u'IMU_Z'],\n",
      "      dtype='object')\n",
      "Index([u'Time', u'Lat', u'Lon', u'Alt', u'fix', u'#sats', u'speed', u'dir',\n",
      "       u'Local_X', u'Local_Y', u'Local_Z', u'rawlog_ID', u'Geocen_X',\n",
      "       u'Geocen_Y', u'Geocen_Z', u'GPS_X', u'GPS_Y', u'GPS_Z', u'GPS_VX',\n",
      "       u'GPS_VY', u'GPS_VZ', u'Local_VX', u'Local_VY', u'Local_VZ',\n",
      "       u'SAT_Time'],\n",
      "      dtype='object')\n"
     ]
    }
   ],
   "source": [
    "print imu.columns\n",
    "print gps.columns"
   ]
  },
  {
   "cell_type": "code",
   "execution_count": 277,
   "metadata": {
    "collapsed": true
   },
   "outputs": [],
   "source": [
    "#putting dt = sampling time eqaul to 1\n",
    "dt=1"
   ]
  },
  {
   "cell_type": "code",
   "execution_count": 278,
   "metadata": {
    "scrolled": true
   },
   "outputs": [
    {
     "data": {
      "text/plain": [
       "matrix([[ 1. ,  1. , -0.5,  0. ,  0. ,  0. ,  0. ,  0. ,  0. ],\n",
       "        [ 0. ,  1. , -1. ,  0. ,  0. ,  0. ,  0. ,  0. ,  0. ],\n",
       "        [ 0. ,  0. ,  1. ,  0. ,  0. ,  0. ,  0. ,  0. ,  0. ],\n",
       "        [ 0. ,  0. ,  0. ,  1. ,  1. , -0.5,  0. ,  0. ,  0. ],\n",
       "        [ 0. ,  0. ,  0. ,  0. ,  1. , -1. ,  0. ,  0. ,  0. ],\n",
       "        [ 0. ,  0. ,  0. ,  0. ,  0. ,  1. ,  0. ,  0. ,  0. ],\n",
       "        [ 0. ,  0. ,  0. ,  0. ,  0. ,  0. ,  1. ,  1. , -0.5],\n",
       "        [ 0. ,  0. ,  0. ,  0. ,  0. ,  0. ,  0. ,  1. , -1. ],\n",
       "        [ 0. ,  0. ,  0. ,  0. ,  0. ,  0. ,  0. ,  0. ,  1. ]])"
      ]
     },
     "execution_count": 278,
     "metadata": {},
     "output_type": "execute_result"
    }
   ],
   "source": [
    "#defining matrix A(state transition matrix)\n",
    "\n",
    "A=np.matrix([[1,dt,-0.5*dt**2,0,0,0,0,0,0],\n",
    "            [0,1,-dt,0,0,0,0,0,0],\n",
    "            [0,0,1,0,0,0,0,0,0],\n",
    "            [0,0,0,1,dt,-0.5*dt**2,0,0,0],\n",
    "            [0,0,0,0,1,-dt,0,0,0],\n",
    "            [0,0,0,0,0,1,0,0,0],\n",
    "            [0,0,0,0,0,0,1,dt,-0.5*dt**2],\n",
    "            [0,0,0,0,0,0,0,1,-dt],\n",
    "            [0,0,0,0,0,0,0,0,1]])\n",
    "A"
   ]
  },
  {
   "cell_type": "code",
   "execution_count": 279,
   "metadata": {
    "scrolled": false
   },
   "outputs": [
    {
     "data": {
      "text/plain": [
       "matrix([[ 0.5,  0. ,  0. ],\n",
       "        [ 1. ,  0. ,  0. ],\n",
       "        [ 1. ,  0. ,  0. ],\n",
       "        [ 0. ,  0.5,  0. ],\n",
       "        [ 0. ,  1. ,  0. ],\n",
       "        [ 0. ,  1. ,  0. ],\n",
       "        [ 0. ,  0. ,  0.5],\n",
       "        [ 0. ,  0. ,  1. ],\n",
       "        [ 0. ,  0. ,  1. ]])"
      ]
     },
     "execution_count": 279,
     "metadata": {},
     "output_type": "execute_result"
    }
   ],
   "source": [
    "\n",
    "\n",
    "\n",
    "#B is input/ control matrix \n",
    "\n",
    "B=np.matrix([[0.5*dt**2,0,0],\n",
    "            [dt,0,0],\n",
    "            [1,0,0],\n",
    "            [0,0.5*dt**2,0],\n",
    "            [0,dt,0],\n",
    "            [0,1,0],\n",
    "            [0,0,0.5*dt**2],\n",
    "            [0,0,dt],\n",
    "            [0,0,1]])\n",
    "B          "
   ]
  },
  {
   "cell_type": "code",
   "execution_count": 43,
   "metadata": {},
   "outputs": [
    {
     "data": {
      "text/plain": [
       "matrix([[1, 0, 0, 0, 0, 0, 0, 0, 0],\n",
       "        [0, 0, 0, 0, 0, 0, 0, 0, 0],\n",
       "        [0, 0, 0, 0, 0, 0, 0, 0, 0],\n",
       "        [0, 0, 0, 1, 0, 0, 0, 0, 0],\n",
       "        [0, 0, 0, 0, 0, 0, 0, 0, 0],\n",
       "        [0, 0, 0, 0, 0, 0, 0, 0, 0],\n",
       "        [0, 0, 0, 0, 0, 0, 1, 0, 0],\n",
       "        [0, 0, 0, 0, 0, 0, 0, 0, 0],\n",
       "        [0, 0, 0, 0, 0, 0, 0, 0, 0]])"
      ]
     },
     "execution_count": 43,
     "metadata": {},
     "output_type": "execute_result"
    }
   ],
   "source": [
    "#H is measurement matrix\n",
    "\n",
    "H=np.matrix(np.diag([1,0,0,1,0,0,1,0,0]))\n",
    "H"
   ]
  },
  {
   "cell_type": "code",
   "execution_count": 280,
   "metadata": {},
   "outputs": [],
   "source": [
    "\n",
    "\n",
    "def Um(imu, i):\n",
    "    acc_x=imu['IMU_X_ACC'][i]\n",
    "    acc_y=imu['IMU_Y_ACC'][i]\n",
    "    acc_z=imu['IMU_Z_ACC'][i]\n",
    "    U_mat=np.matrix([[acc_x],\n",
    "                    [acc_y],\n",
    "                    [acc_z]])\n",
    "    return U_mat\n",
    "\n"
   ]
  },
  {
   "cell_type": "code",
   "execution_count": 281,
   "metadata": {},
   "outputs": [],
   "source": [
    "\n",
    "#previous_velocity list\n",
    "\n",
    "prev_vel=[[0,0,0]]\n",
    "\n",
    "#acceration baises\n",
    "abx=0\n",
    "aby=0\n",
    "abz=-(np.array(imu['IMU_Z_ACC']).mean())\n",
    "\n",
    "\n",
    "#defining a function that will return linear velocity using angular velocities and accelerations\n",
    "#prev_vel is dict that contains previous velocities with i as keys \n",
    "#this will predict velocity for nex time step using velocities of previous time step\n",
    "def vel(imu,prev_vel,i):\n",
    "    pvel=np.matrix([prev_vel[i][0],\n",
    "                    prev_vel[i][1],\n",
    "                    prev_vel[i][2]])\n",
    "    pvel=pvel.T\n",
    "    #making a 3x3 matrix using roll yaw and pitch\n",
    "    p=imu['IMU_PITCH_VEL'][i]\n",
    "    q=imu['IMU_ROLL_VEL'][i]\n",
    "    r=imu['IMU_YAW_VEL'][i]\n",
    "    #ang_mat=angualr rate matrix\n",
    "    ang_mat=np.matrix([[0,r,-q],\n",
    "                     [-r,0,p],\n",
    "                     [-p,q,0]])\n",
    "    #acc_matrix is linear acc matux that consists of imu data from imu acc\n",
    "    acc_mat=np.matrix([[imu['IMU_X_ACC'][i]],\n",
    "                     [imu['IMU_Y_ACC'][i]],\n",
    "                     [imu['IMU_Z_ACC'][i]]])\n",
    "    bias_acc=np.matrix([[abx],\n",
    "                       [aby],\n",
    "                       [abz]])\n",
    "    #calculating new velocity \n",
    "    new_vel=(pvel+(ang_mat*pvel)*dt+acc_mat*dt+bias_acc*dt).T\n",
    "    return np.ravel(new_vel)\n"
   ]
  },
  {
   "cell_type": "code",
   "execution_count": 282,
   "metadata": {},
   "outputs": [
    {
     "data": {
      "text/plain": [
       "matrix([[ 0.        ],\n",
       "        [ 1.        ],\n",
       "        [ 0.        ],\n",
       "        [ 0.        ],\n",
       "        [ 1.        ],\n",
       "        [ 0.        ],\n",
       "        [ 0.        ],\n",
       "        [ 1.        ],\n",
       "        [-9.74434586]])"
      ]
     },
     "execution_count": 282,
     "metadata": {},
     "output_type": "execute_result"
    }
   ],
   "source": [
    "Xhat=np.array([[0,0,abx,0,0,aby,0,0,abz]])\n",
    "\n",
    "def Xm(Xhat,i,vx,vy,vz):\n",
    "    xk=Xhat[i][0]\n",
    "    yk=Xhat[i][3]\n",
    "    zk=Xhat[i][6]\n",
    "    vxk=vx\n",
    "    vyk=vy\n",
    "    vzk=vz\n",
    "    \n",
    "    X=np.matrix([xk,vxk,abx,yk,vyk,aby,zk,vzk,abz]) #############\n",
    "    X=np.transpose(X) ###############\n",
    "    return X\n",
    "\n",
    "Xm(Xhat,0,1,1,1)"
   ]
  },
  {
   "cell_type": "code",
   "execution_count": 283,
   "metadata": {},
   "outputs": [
    {
     "data": {
      "text/plain": [
       "(9, 1)"
      ]
     },
     "execution_count": 283,
     "metadata": {},
     "output_type": "execute_result"
    }
   ],
   "source": [
    "#Y is measured gps values\n",
    "\n",
    "def Ym(gps,i):\n",
    "    yxk1=gps['Local_X'][i+1]\n",
    "    yyk1=gps['Local_Y'][i+1]\n",
    "    yzk1=gps['Local_Z'][i+1]\n",
    "\n",
    "    Y=np.matrix([[yxk1],[0], [0], [yyk1], [0], [0], [yzk1],[0],[0]])\n",
    "    \n",
    "    return Y\n",
    "Ym(gps,2).shape\n"
   ]
  },
  {
   "cell_type": "code",
   "execution_count": 298,
   "metadata": {},
   "outputs": [
    {
     "data": {
      "text/plain": [
       "(9, 9)"
      ]
     },
     "execution_count": 298,
     "metadata": {},
     "output_type": "execute_result"
    }
   ],
   "source": [
    "\n",
    "P=np.matrix(np.diag([9,0.01,0.01,9,0.01,0.01,9,0.01,0.01]))\n",
    "P.shape\n"
   ]
  },
  {
   "cell_type": "code",
   "execution_count": 299,
   "metadata": {
    "scrolled": true
   },
   "outputs": [
    {
     "data": {
      "text/plain": [
       "matrix([[ 0.33,  0.  ,  0.  ,  0.  ,  0.  ,  0.  ,  0.  ,  0.  ,  0.  ],\n",
       "        [ 0.  ,  0.33,  0.  ,  0.  ,  0.  ,  0.  ,  0.  ,  0.  ,  0.  ],\n",
       "        [ 0.  ,  0.  ,  0.33,  0.  ,  0.  ,  0.  ,  0.  ,  0.  ,  0.  ],\n",
       "        [ 0.  ,  0.  ,  0.  ,  0.33,  0.  ,  0.  ,  0.  ,  0.  ,  0.  ],\n",
       "        [ 0.  ,  0.  ,  0.  ,  0.  ,  0.33,  0.  ,  0.  ,  0.  ,  0.  ],\n",
       "        [ 0.  ,  0.  ,  0.  ,  0.  ,  0.  ,  0.33,  0.  ,  0.  ,  0.  ],\n",
       "        [ 0.  ,  0.  ,  0.  ,  0.  ,  0.  ,  0.  ,  0.33,  0.  ,  0.  ],\n",
       "        [ 0.  ,  0.  ,  0.  ,  0.  ,  0.  ,  0.  ,  0.  ,  0.33,  0.  ],\n",
       "        [ 0.  ,  0.  ,  0.  ,  0.  ,  0.  ,  0.  ,  0.  ,  0.  ,  0.33]])"
      ]
     },
     "execution_count": 299,
     "metadata": {},
     "output_type": "execute_result"
    }
   ],
   "source": [
    "\n",
    "Q=np.matrix(np.eye(9,9))*0.33\n",
    "Q"
   ]
  },
  {
   "cell_type": "code",
   "execution_count": 300,
   "metadata": {},
   "outputs": [],
   "source": [
    "#R=np.matrix(np.zeros((9,9)))\n",
    "#R"
   ]
  },
  {
   "cell_type": "code",
   "execution_count": 301,
   "metadata": {},
   "outputs": [
    {
     "data": {
      "text/plain": [
       "matrix([[ 0.33,  0.  ,  0.  ,  0.  ,  0.  ,  0.  ,  0.  ,  0.  ,  0.  ],\n",
       "        [ 0.  ,  0.33,  0.  ,  0.  ,  0.  ,  0.  ,  0.  ,  0.  ,  0.  ],\n",
       "        [ 0.  ,  0.  ,  0.33,  0.  ,  0.  ,  0.  ,  0.  ,  0.  ,  0.  ],\n",
       "        [ 0.  ,  0.  ,  0.  ,  0.33,  0.  ,  0.  ,  0.  ,  0.  ,  0.  ],\n",
       "        [ 0.  ,  0.  ,  0.  ,  0.  ,  0.33,  0.  ,  0.  ,  0.  ,  0.  ],\n",
       "        [ 0.  ,  0.  ,  0.  ,  0.  ,  0.  ,  0.33,  0.  ,  0.  ,  0.  ],\n",
       "        [ 0.  ,  0.  ,  0.  ,  0.  ,  0.  ,  0.  ,  0.33,  0.  ,  0.  ],\n",
       "        [ 0.  ,  0.  ,  0.  ,  0.  ,  0.  ,  0.  ,  0.  ,  0.33,  0.  ],\n",
       "        [ 0.  ,  0.  ,  0.  ,  0.  ,  0.  ,  0.  ,  0.  ,  0.  ,  0.33]])"
      ]
     },
     "execution_count": 301,
     "metadata": {},
     "output_type": "execute_result"
    }
   ],
   "source": [
    "R = np.matrix(np.eye(9,9))*0.33\n",
    "R\n"
   ]
  },
  {
   "cell_type": "code",
   "execution_count": 302,
   "metadata": {},
   "outputs": [],
   "source": [
    "#Q = np.matrix(np.eye(np.shape(X)[0]))\n",
    "#Q"
   ]
  },
  {
   "cell_type": "code",
   "execution_count": 303,
   "metadata": {
    "collapsed": true
   },
   "outputs": [],
   "source": [
    "from numpy import dot, sum, tile, linalg \n",
    "from numpy.linalg import inv\n",
    "\n",
    "def kf_update (X, P, Y, H, R):  \n",
    "    IM = H*X    \n",
    "    IS = R + H*(P*H.T) \n",
    "    K = (P*(H.T*inv(IS)))  \n",
    "    X = X + (K*(Y-IM))   \n",
    "    P = P - (K*(IS*K.T))  \n",
    "    return (X,P,K,IM,IS)\n",
    "    "
   ]
  },
  {
   "cell_type": "code",
   "execution_count": 304,
   "metadata": {
    "collapsed": true
   },
   "outputs": [],
   "source": [
    "def kf_predict (X, P, A, Q, B, U):  \n",
    "    X =  A*X + B*U\n",
    "    P = A*(P *A.T) + Q \n",
    "    return(X,P) "
   ]
  },
  {
   "cell_type": "code",
   "execution_count": 305,
   "metadata": {},
   "outputs": [],
   "source": [
    "#applying kalman filter \n",
    "#iterartion and calling various variables \n",
    "#defining each arrays for each variable new changed---X,Velocity,P,k\n",
    "\n",
    "Xhat=[[0,0,abx,0,0,aby,0,0,abz]]\n",
    "Pminus=P\n",
    "prev_vel=[[0,0,0],]\n",
    "#for i in range (len(imu['IMU_Z_ACC'])): \n",
    "for i in range (n):\n",
    "    #velocity calculation\n",
    "    new_vel=vel(imu,prev_vel,i)\n",
    "    prev_vel.append(new_vel)\n",
    "    vx=new_vel[0]\n",
    "    vy=new_vel[1]\n",
    "    vz=new_vel[2]\n",
    "    \n",
    "    #getting values for all variables to be used\n",
    "    X=Xm(Xhat,i,vx,vy,vz)\n",
    "    P=Pminus\n",
    "    Y=Ym(gps,i)\n",
    "    U=Um(imu, i)\n",
    "    (X, P) = kf_predict(X, P, A, Q, B, U)   \n",
    "    (X, P, K, IM, IS) = kf_update(X, P, Y, H, R) \n",
    "    \n",
    "    Xhat.append((np.ravel(X)))\n",
    "    Pminus=P\n",
    "    \n",
    "    \n",
    "    "
   ]
  },
  {
   "cell_type": "code",
   "execution_count": 306,
   "metadata": {
    "scrolled": true
   },
   "outputs": [
    {
     "data": {
      "text/plain": [
       "[[0, 0, 0, 0, 0, 0, 0, 0, -9.7443458557128899],\n",
       " array([  1.58707284,   0.19691839,   0.09653102,   3.42044301,\n",
       "          0.61614808,   0.3041111 ,   3.59441709,  19.04547697,  -0.21381431]),\n",
       " array([  1.69344227,   0.26644459,   0.16243342,   5.15197986,\n",
       "          1.58013038,   0.33297019,   5.93855444,  16.01068394,   1.42997351]),\n",
       " array([  1.88720813,   0.53055477,   0.62439338,   7.40400304,\n",
       "          2.09021518,  -0.22902201,   5.91493702,  12.0438383 ,   3.84252665]),\n",
       " array([  2.13892248,   0.35853108,   0.23724126,  10.0599045 ,\n",
       "          2.69009293,   0.01278953,   5.80022609,  10.96051853,   3.155017  ]),\n",
       " array([  2.51825477,   0.22221045,  -0.32435685,  12.69329338,\n",
       "          2.69063038,   0.04895935,   6.17580381,  11.36646639,   3.27443446]),\n",
       " array([  2.65608545,  -0.04735712,  -0.391982  ,  15.25768479,\n",
       "          2.36903413,  -0.49042653,   6.65639053,  11.48819802,   3.42315846]),\n",
       " array([  2.84199633,   0.29745473,   0.23473244,  18.05088588,\n",
       "          2.79248603,  -0.08710243,   7.0263174 ,  11.67223757,   4.10520903]),\n",
       " array([  3.32612413,   0.8014253 ,   0.68031212,  21.14977895,\n",
       "          2.90991053,  -0.5051457 ,   7.15926128,  11.3874602 ,   4.04785232]),\n",
       " array([  3.75164919,   0.46037901,   0.09610213,  24.29026016,\n",
       "          2.96542448,  -0.48005485,   7.02596298,  11.26666908,   4.40822413]),\n",
       " array([  3.8435515 ,  -0.25017149,  -0.70967376,  27.52655143,\n",
       "          3.5058616 ,   0.4921507 ,   7.28523016,  11.51242327,   4.08705862]),\n",
       " array([  4.26909616,   0.27813728,  -0.33963622,  30.72956601,\n",
       "          3.50769641,   0.617399  ,   6.89012874,  11.09225542,   4.66042388]),\n",
       " array([  4.53490108e+00,  -2.70089179e-02,  -6.59613007e-01,\n",
       "          3.33720088e+01,   2.77927309e+00,   3.29474546e-01,\n",
       "          7.01669312e+00,   1.13498741e+01,   4.07304759e+00]),\n",
       " array([  4.79925481,  -0.05618754,  -0.74555231,  36.31090952,\n",
       "          3.04217791,   0.24439671,   6.78898896,  10.78983646,   3.64495209]),\n",
       " array([  5.10033674,   0.12499698,  -0.45365988,  38.95313059,\n",
       "          2.83910956,   0.47919557,   6.89277262,  10.95148781,   3.22521513]),\n",
       " array([  5.3518227 ,   0.546177  ,   0.58135795,  41.65419816,\n",
       "          2.53253713,  -0.31867449,   6.96038229,  10.9582593 ,   3.28974002]),\n",
       " array([  5.60256927,  -0.53473697,  -1.75754802,  44.40857007,\n",
       "          2.64585742,  -0.21652005,   6.69641579,   9.89968686,   1.69449695]),\n",
       " array([  6.04270008e+00,   4.34283211e-02,  -9.85986719e-01,\n",
       "          4.72717697e+01,   3.26595352e+00,   8.87296728e-01,\n",
       "          6.66190136e+00,   1.10111765e+01,   3.52638581e+00]),\n",
       " array([  6.58301431,   0.06954042,  -1.18452335,  49.95345985,\n",
       "          3.26880758,   1.34044234,   6.5538215 ,  10.86693231,   3.38527146]),\n",
       " array([  7.11039316,  -0.14108842,  -1.64208993,  52.35025038,\n",
       "          2.62125572,   0.60878611,   6.3680011 ,  10.87201687,   3.57090362]),\n",
       " array([  7.6644447 ,  -0.17386876,  -1.79887273,  54.81657754,\n",
       "          2.95096491,   1.18613719,   6.1495874 ,  10.71127815,   3.30489848]),\n",
       " array([  7.99689678,  -0.1940533 ,  -1.36447868,  57.40633044,\n",
       "          2.94465788,   0.92732293,   5.9917026 ,  10.58612683,   2.88840447]),\n",
       " array([  8.27889021,  -0.34152553,  -1.57291642,  60.19656353,\n",
       "          3.18703504,   1.02562066,   5.96127236,  10.77967995,   3.00102795]),\n",
       " array([  8.49903768e+00,  -4.26197399e-02,  -7.86499458e-01,\n",
       "          6.31660851e+01,   4.20811653e+00,   2.88677370e+00,\n",
       "          6.09848137e+00,   1.12454847e+01,   3.63941557e+00]),\n",
       " array([  8.68939759e+00,  -2.56412300e-02,  -6.55194181e-01,\n",
       "          6.59208000e+01,   3.33764614e+00,   1.55788208e+00,\n",
       "          5.98008565e+00,   1.07465852e+01,   3.14421922e+00]),\n",
       " array([  8.96856082,  -0.08932882,  -0.97716452,  68.90300002,\n",
       "          3.68735675,   1.82352006,   5.87997862,  10.87219447,   3.36746198]),\n",
       " array([  9.15595213e+00,   9.83482284e-03,  -5.60225086e-01,\n",
       "          7.17900150e+01,   3.96677831e+00,   2.67512520e+00,\n",
       "          5.94271641e+00,   1.10226243e+01,   3.31683826e+00]),\n",
       " array([  9.30108403,  -0.09321204,  -0.6852356 ,  74.75112611,\n",
       "          3.81613143,   2.22731747,   5.93511005,  10.89784954,   3.20974851]),\n",
       " array([  9.45184863e+00,  -6.92871896e-02,  -6.46954974e-01,\n",
       "          7.73562387e+01,   3.30618100e+00,   1.93376603e+00,\n",
       "          5.94848271e+00,   1.10810745e+01,   3.55404005e+00]),\n",
       " array([  9.53890728,  -0.51699547,  -1.47130831,  80.18660709,\n",
       "          3.84619612,   2.61406341,   5.99992728,  10.87308733,   3.02584173]),\n",
       " array([  9.86877668e+00,   5.61348267e-02,  -7.81457004e-01,\n",
       "          8.29464581e+01,   3.50074300e+00,   2.05071896e+00,\n",
       "          6.09789328e+00,   1.10647438e+01,   3.32242052e+00]),\n",
       " array([ 10.03339346,  -0.12789012,  -0.80468331,  86.19650498,\n",
       "          4.63583564,   3.43663814,   6.23565578,  11.19595339,   3.54890505]),\n",
       " array([ 10.38683948,   0.33687423,  -0.20211847,  89.57353483,\n",
       "          4.67385322,   3.30171859,   6.29826566,  10.48628696,   2.16449335]),\n",
       " array([  1.05586483e+01,   2.39628845e-02,  -4.43794904e-01,\n",
       "          9.31480784e+01,   4.11906007e+00,   1.68274554e+00,\n",
       "          6.65841096e+00,   1.15648027e+01,   3.79214320e+00]),\n",
       " array([  1.07112242e+01,  -5.99503142e-02,  -5.69807081e-01,\n",
       "          9.70176972e+01,   5.43516118e+00,   3.87988148e+00,\n",
       "          6.74655013e+00,   1.09945331e+01,   3.19569864e+00]),\n",
       " array([  10.95145751,   -0.17651388,   -1.03070596,  100.74206862,\n",
       "           4.97143526,    3.26566762,    6.76140412,   10.63547934,\n",
       "           2.55747303]),\n",
       " array([  11.08842859,   -0.37009875,   -1.22222104,  104.34477328,\n",
       "           5.04352223,    3.7335821 ,    6.86774093,   10.86724632,\n",
       "           2.85416368]),\n",
       " array([  1.12644716e+01,  -9.06627606e-02,  -7.16762806e-01,\n",
       "          1.07724041e+02,   4.75151132e+00,   3.64177850e+00,\n",
       "          7.02676395e+00,   1.13615277e+01,   3.80093799e+00]),\n",
       " array([  11.28013248,   -0.27914436,   -0.75868877,  111.09971063,\n",
       "           4.81908485,    3.82559692,    7.30374581,   11.33906209,\n",
       "           3.50892412]),\n",
       " array([  11.2346993 ,   -0.57150718,   -1.26261868,  114.56333742,\n",
       "           5.39927465,    4.93197516,    7.5530521 ,   11.41688918,\n",
       "           3.77466344])]"
      ]
     },
     "execution_count": 306,
     "metadata": {},
     "output_type": "execute_result"
    }
   ],
   "source": [
    "Xhat"
   ]
  },
  {
   "cell_type": "code",
   "execution_count": 307,
   "metadata": {},
   "outputs": [
    {
     "data": {
      "text/plain": [
       "{0: 0,\n",
       " 1: 1.5870728376822867,\n",
       " 2: 1.6934422739282353,\n",
       " 3: 1.887208125936918,\n",
       " 4: 2.1389224806632749,\n",
       " 5: 2.5182547694978017,\n",
       " 6: 2.6560854459853984,\n",
       " 7: 2.8419963256826368,\n",
       " 8: 3.3261241290093801,\n",
       " 9: 3.7516491904506286,\n",
       " 10: 3.8435515001969449,\n",
       " 11: 4.2690961581288773,\n",
       " 12: 4.5349010782746042,\n",
       " 13: 4.7992548148800322,\n",
       " 14: 5.1003367360583933,\n",
       " 15: 5.3518226974219951,\n",
       " 16: 5.6025692712639286,\n",
       " 17: 6.0427000802054085,\n",
       " 18: 6.5830143070556026,\n",
       " 19: 7.1103931595237597,\n",
       " 20: 7.6644447047822002,\n",
       " 21: 7.9968967765710408,\n",
       " 22: 8.2788902059352001,\n",
       " 23: 8.4990376781968102,\n",
       " 24: 8.6893975878529819,\n",
       " 25: 8.9685608238093639,\n",
       " 26: 9.1559521274769224,\n",
       " 27: 9.3010840325914703,\n",
       " 28: 9.4518486275665996,\n",
       " 29: 9.5389072767885388,\n",
       " 30: 9.8687766793714005,\n",
       " 31: 10.033393458190357,\n",
       " 32: 10.386839479258118,\n",
       " 33: 10.558648312469645,\n",
       " 34: 10.711224243057348,\n",
       " 35: 10.951457513190503,\n",
       " 36: 11.088428591518117,\n",
       " 37: 11.264471643989829,\n",
       " 38: 11.280132478444466}"
      ]
     },
     "execution_count": 307,
     "metadata": {},
     "output_type": "execute_result"
    }
   ],
   "source": [
    "xdir={}\n",
    "for i in range(n):\n",
    "    xdir[i]=(Xhat[i][0])\n",
    "    \n",
    "xdir"
   ]
  },
  {
   "cell_type": "code",
   "execution_count": 308,
   "metadata": {},
   "outputs": [
    {
     "data": {
      "text/plain": [
       "{0: 0,\n",
       " 1: 3.4204430085753477,\n",
       " 2: 5.1519798553544627,\n",
       " 3: 7.4040030419153897,\n",
       " 4: 10.059904502800315,\n",
       " 5: 12.693293378815484,\n",
       " 6: 15.257684794479021,\n",
       " 7: 18.050885881889052,\n",
       " 8: 21.149778953745997,\n",
       " 9: 24.290260156541589,\n",
       " 10: 27.526551433741432,\n",
       " 11: 30.729566014906634,\n",
       " 12: 33.372008780776589,\n",
       " 13: 36.310909524724408,\n",
       " 14: 38.953130594873542,\n",
       " 15: 41.654198159673797,\n",
       " 16: 44.408570069234742,\n",
       " 17: 47.271769652486149,\n",
       " 18: 49.953459845407338,\n",
       " 19: 52.350250380872936,\n",
       " 20: 54.816577540833038,\n",
       " 21: 57.406330442999824,\n",
       " 22: 60.196563527335513,\n",
       " 23: 63.166085124285239,\n",
       " 24: 65.920799955206263,\n",
       " 25: 68.903000024246538,\n",
       " 26: 71.79001497494545,\n",
       " 27: 74.751126105811295,\n",
       " 28: 77.356238744914279,\n",
       " 29: 80.186607090031103,\n",
       " 30: 82.946458058300678,\n",
       " 31: 86.196504981986919,\n",
       " 32: 89.573534832412889,\n",
       " 33: 93.148078389140409,\n",
       " 34: 97.017697227882636,\n",
       " 35: 100.7420686181749,\n",
       " 36: 104.34477327717325,\n",
       " 37: 107.72404058683249,\n",
       " 38: 111.09971062670084}"
      ]
     },
     "execution_count": 308,
     "metadata": {},
     "output_type": "execute_result"
    }
   ],
   "source": [
    "ydir={}\n",
    "for i in range(n):\n",
    "    ydir[i]=(Xhat[i][3])\n",
    "    \n",
    "ydir"
   ]
  },
  {
   "cell_type": "code",
   "execution_count": 309,
   "metadata": {},
   "outputs": [
    {
     "data": {
      "text/plain": [
       "{0: 0,\n",
       " 1: 3.5944170925056413,\n",
       " 2: 5.9385544427485151,\n",
       " 3: 5.9149370157725816,\n",
       " 4: 5.8002260948818236,\n",
       " 5: 6.1758038096059682,\n",
       " 6: 6.6563905308333666,\n",
       " 7: 7.0263173992154986,\n",
       " 8: 7.1592612755004641,\n",
       " 9: 7.0259629789997842,\n",
       " 10: 7.2852301552937018,\n",
       " 11: 6.8901287356114835,\n",
       " 12: 7.0166931187151391,\n",
       " 13: 6.788988956212803,\n",
       " 14: 6.8927726204830488,\n",
       " 15: 6.9603822888694644,\n",
       " 16: 6.6964157925065422,\n",
       " 17: 6.66190136076243,\n",
       " 18: 6.553821503293376,\n",
       " 19: 6.3680010993244043,\n",
       " 20: 6.1495874010368929,\n",
       " 21: 5.9917026009759944,\n",
       " 22: 5.9612723648847048,\n",
       " 23: 6.0984813669273787,\n",
       " 24: 5.9800856510192677,\n",
       " 25: 5.8799786211085063,\n",
       " 26: 5.94271640712196,\n",
       " 27: 5.9351100537155848,\n",
       " 28: 5.9484827052791935,\n",
       " 29: 5.9999272798560419,\n",
       " 30: 6.0978932770337568,\n",
       " 31: 6.2356557751554558,\n",
       " 32: 6.2982656612756696,\n",
       " 33: 6.6584109593448755,\n",
       " 34: 6.746550134766867,\n",
       " 35: 6.7614041233999078,\n",
       " 36: 6.8677409266110043,\n",
       " 37: 7.0267639468102505,\n",
       " 38: 7.3037458066324739}"
      ]
     },
     "execution_count": 309,
     "metadata": {},
     "output_type": "execute_result"
    }
   ],
   "source": [
    "zdir={}\n",
    "for i in range(n):\n",
    "    zdir[i]=(Xhat[i][6])\n",
    "    \n",
    "zdir"
   ]
  },
  {
   "cell_type": "code",
   "execution_count": 310,
   "metadata": {},
   "outputs": [],
   "source": [
    "S1=pd.Series(xdir)\n",
    "S2=pd.Series(ydir)\n",
    "S3=pd.Series(zdir)\n"
   ]
  },
  {
   "cell_type": "code",
   "execution_count": 311,
   "metadata": {},
   "outputs": [
    {
     "data": {
      "image/png": "[encoded data removed]",
      "text/plain": [
       "<matplotlib.figure.Figure at 0x7f3e6a9da350>"
      ]
     },
     "metadata": {},
     "output_type": "display_data"
    }
   ],
   "source": [
    "import matplotlib.pyplot as plt\n",
    "plt.plot(gps['Local_X'][:40],gps['Local_Y'][:40],'r--',)\n",
    "plt.xlabel('local_x')\n",
    "plt.ylabel('local_y')\n",
    "#plt.show()\n",
    "plt.plot(S1[:40],S2[:40],'--')\n",
    "plt.xlabel('predicted_local_x')\n",
    "plt.ylabel('predicted_local_y')\n",
    "plt.show()"
   ]
  },
  {
   "cell_type": "code",
   "execution_count": 313,
   "metadata": {},
   "outputs": [
    {
     "data": {
      "image/png": "[encoded data removed]",
      "text/plain": [
       "<matplotlib.figure.Figure at 0x7f3e6a60ec90>"
      ]
     },
     "metadata": {},
     "output_type": "display_data"
    },
    {
     "data": {
      "image/png": "[encoded data removed]",
      "text/plain": [
       "<matplotlib.figure.Figure at 0x7f3e6a9748d0>"
      ]
     },
     "metadata": {},
     "output_type": "display_data"
    }
   ],
   "source": [
    "import matplotlib.pyplot as plt\n",
    "plt.plot(gps['Local_X'][20:39],gps['Local_Y'][20:39],'r--')\n",
    "plt.xlabel('local_x')\n",
    "plt.ylabel('local_y')\n",
    "plt.show()\n",
    "plt.plot(S1[20:39],S2[20:39],'--');\n",
    "plt.xlabel('predicted_local_x')\n",
    "plt.ylabel('predicted_local_y')\n",
    "plt.show()"
   ]
  },
  {
   "cell_type": "code",
   "execution_count": null,
   "metadata": {
    "collapsed": true
   },
   "outputs": [],
   "source": []
  },
  {
   "cell_type": "code",
   "execution_count": null,
   "metadata": {
    "collapsed": true
   },
   "outputs": [],
   "source": []
  },
  {
   "cell_type": "code",
   "execution_count": null,
   "metadata": {
    "collapsed": true
   },
   "outputs": [],
   "source": []
  }
 ],
 "metadata": {
  "kernelspec": {
   "display_name": "Python 2",
   "language": "python",
   "name": "python2"
  },
  "language_info": {
   "codemirror_mode": {
    "name": "ipython",
    "version": 2
   },
   "file_extension": ".py",
   "mimetype": "text/x-python",
   "name": "python",
   "nbconvert_exporter": "python",
   "pygments_lexer": "ipython2",
   "version": "2.7.14"
  }
 },
 "nbformat": 4,
 "nbformat_minor": 2
}
